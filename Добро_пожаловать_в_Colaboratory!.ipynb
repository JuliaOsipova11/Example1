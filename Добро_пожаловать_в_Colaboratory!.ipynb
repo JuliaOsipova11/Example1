{
  "cells": [
    {
      "cell_type": "markdown",
      "metadata": {
        "id": "view-in-github",
        "colab_type": "text"
      },
      "source": [
        "<a href=\"https://colab.research.google.com/github/JuliaOsipova11/Example1/blob/main/%D0%94%D0%BE%D0%B1%D1%80%D0%BE_%D0%BF%D0%BE%D0%B6%D0%B0%D0%BB%D0%BE%D0%B2%D0%B0%D1%82%D1%8C_%D0%B2_Colaboratory!.ipynb\" target=\"_parent\"><img src=\"https://colab.research.google.com/assets/colab-badge.svg\" alt=\"Open In Colab\"/></a>"
      ]
    },
    {
      "cell_type": "markdown",
      "source": [],
      "metadata": {
        "id": "W-ahiOeYNQKF"
      }
    },
    {
      "cell_type": "code",
      "source": [
        "import pandas as pd\n",
        "\n",
        "# читаем\n",
        "df = pd.read_csv('sample_data/california_housing_train.csv')\n",
        "\n",
        "# показываем строки с начала, n - количество отображаемых строк\n",
        "df.head(n = 10) \n",
        "\n",
        "# показываем строки с конца, n - количество отображаемых строк\n",
        "df.teal(n = 2)\n",
        "\n",
        "# возвращает размеры таблицы\n",
        "df.shape\n",
        "\n",
        "# узнаем тип данных в каждом столбце\n",
        "df.dtypes\n",
        "\n",
        "# узнать название всех столбцов в таблице\n",
        "df.columns\n",
        "\n",
        "# & - выполнение одновременно ВСЕХ условий\n",
        "# | - выполнение ХОТЯ БЫ ОДНОГО условия\n",
        "\n",
        "# Проверить есть ли в файле пустые значения\n",
        "df.isnull().sum()\n",
        "\n",
        "# Показать median_house_value где median_income < 2\n",
        "df[df['median_income'] < 2] [['median_house_value']]\n",
        "\n",
        "# Показать данные в первых 2 столбцах\n",
        "df.iloc[ : ,0:2]\n",
        "\n",
        "# Выбрать данные где housing_median_age < 20 и median_house_value > 70000\n",
        "df[(df.housing_median_age < 20) & (df.median_house_value > 70000)]\n",
        "\n",
        "# Определить какое максимальное и минимальное значение median_house_value\n",
        "df.median_house_value.max(), df.median_house_value.min()\n",
        "\n",
        "# Показать максимальное median_house_value, где median_income = 3.1250\n",
        "df.loc[(df.median_income == 3.1250), ['median_house_value']].max()\n",
        "\n",
        "\n",
        "# Узнать какая максимальная population в зоне минимального значения median_house_value\n",
        "df1 = df.loc[df.median_house_value < df.median_house_value.quantile(.25)]\n",
        "df1.population.max()\n",
        "df1\n",
        "df.median_house_value.quantile(.25)\n",
        "\n",
        "# Задача40. Определить среднюю стоимость дома, где кол-во людей от 0 до 500 (population)\n",
        "df1=df.loc[(df.population > 0) & (df.population < 500)]\n",
        "df1.median_house_value.mean()\n",
        "\n",
        "# Задача 42: Узнать какая максимальная households в зоне минимального значения population\n",
        "df1 = df.loc[df.population < df.population.quantile(.25)]\n",
        "df1.households.max()\n",
        "# df1\n",
        "# df.population.quantile(.25)\n",
        "\n",
        "\n",
        "\n"
      ],
      "metadata": {
        "colab": {
          "base_uri": "https://localhost:8080/"
        },
        "id": "vDaIbg_fdJdm",
        "outputId": "6d0cac82-a395-4bee-f9ff-382bf4d17758"
      },
      "execution_count": null,
      "outputs": [
        {
          "output_type": "execute_result",
          "data": {
            "text/plain": [
              "790.0"
            ]
          },
          "metadata": {},
          "execution_count": 34
        }
      ]
    }
  ],
  "metadata": {
    "colab": {
      "name": "Добро пожаловать в Colaboratory!",
      "provenance": [],
      "include_colab_link": true
    },
    "kernelspec": {
      "display_name": "Python 3",
      "name": "python3"
    }
  },
  "nbformat": 4,
  "nbformat_minor": 0
}